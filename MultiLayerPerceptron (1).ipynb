{
  "nbformat": 4,
  "nbformat_minor": 0,
  "metadata": {
    "colab": {
      "name": "MultiLayerPerceptron.ipynb",
      "provenance": [],
      "collapsed_sections": []
    },
    "kernelspec": {
      "name": "python3",
      "display_name": "Python 3"
    },
    "language_info": {
      "name": "python"
    }
  },
  "cells": [
    {
      "cell_type": "code",
      "metadata": {
        "id": "q3w8v6Pfu7oA"
      },
      "source": [
        "import numpy as np\n"
      ],
      "execution_count": null,
      "outputs": []
    },
    {
      "cell_type": "code",
      "metadata": {
        "colab": {
          "base_uri": "https://localhost:8080/",
          "height": 346
        },
        "id": "oeJYujbVv0Jn",
        "outputId": "0c88acb6-c1ef-4292-e968-517ddd39289b"
      },
      "source": [
        "#Just some stuff I googled.\n",
        "\n",
        "class perceptron:\n",
        "  def __init__(self, learning_rate = 0.01, n_iters = 1000):\n",
        "    self.lr = learning_rate\n",
        "    self.n_iters = n_iters\n",
        "    self.activation_func = self.hardThresh\n",
        "    self.weights = None\n",
        "    self.bias = None\n",
        "\n",
        "  def fit(self,x,y):\n",
        "    n,features = x.shape\n",
        "\n",
        "    #weight initialization\n",
        "\n",
        "    self.weights = np.zeros(features)\n",
        "    self.bias = 0\n",
        "    y_ = np.array([1 if i > 0 else 0 for i in y])\n",
        "\n",
        "  for _ in range(self.n_iters):\n",
        "    for idx, x_i in enumerate(x):\n",
        "      linearOut = np.dot(x_i, self.weights) + self.bias\n",
        "      yPred = self.activation_func(linearOut)\n",
        "      update = self.lr * (y_[idx] - yPred)\n",
        "      self.bias += update \n",
        "\n",
        "\n",
        "  def predict(self, X):\n",
        "    linearOut = np.dot(x, self.weights + self.bias)\n",
        "    yPred = self.activation_func(linearOut)\n",
        "    return yPred\n",
        "\n",
        "  def hardThreshold(self,x):\n",
        "    return np.where(x>= 0, 1, 0)\n",
        "  \n",
        "  \n"
      ],
      "execution_count": null,
      "outputs": [
        {
          "output_type": "error",
          "ename": "NameError",
          "evalue": "ignored",
          "traceback": [
            "\u001b[0;31m---------------------------------------------------------------------------\u001b[0m",
            "\u001b[0;31mNameError\u001b[0m                                 Traceback (most recent call last)",
            "\u001b[0;32m<ipython-input-4-5260c7579531>\u001b[0m in \u001b[0;36m<module>\u001b[0;34m()\u001b[0m\n\u001b[1;32m      1\u001b[0m \u001b[0;31m#demonstrate new idea of a perceptron\u001b[0m\u001b[0;34m\u001b[0m\u001b[0;34m\u001b[0m\u001b[0;34m\u001b[0m\u001b[0m\n\u001b[1;32m      2\u001b[0m \u001b[0;34m\u001b[0m\u001b[0m\n\u001b[0;32m----> 3\u001b[0;31m \u001b[0;32mclass\u001b[0m \u001b[0mperceptron\u001b[0m\u001b[0;34m:\u001b[0m\u001b[0;34m\u001b[0m\u001b[0;34m\u001b[0m\u001b[0m\n\u001b[0m\u001b[1;32m      4\u001b[0m   \u001b[0;32mdef\u001b[0m \u001b[0m__init__\u001b[0m\u001b[0;34m(\u001b[0m\u001b[0mself\u001b[0m\u001b[0;34m,\u001b[0m \u001b[0mlearning_rate\u001b[0m \u001b[0;34m=\u001b[0m \u001b[0;36m0.01\u001b[0m\u001b[0;34m,\u001b[0m \u001b[0mn_iters\u001b[0m \u001b[0;34m=\u001b[0m \u001b[0;36m1000\u001b[0m\u001b[0;34m)\u001b[0m\u001b[0;34m:\u001b[0m\u001b[0;34m\u001b[0m\u001b[0;34m\u001b[0m\u001b[0m\n\u001b[1;32m      5\u001b[0m     \u001b[0mself\u001b[0m\u001b[0;34m.\u001b[0m\u001b[0mlr\u001b[0m \u001b[0;34m=\u001b[0m \u001b[0mlearning_rate\u001b[0m\u001b[0;34m\u001b[0m\u001b[0;34m\u001b[0m\u001b[0m\n",
            "\u001b[0;32m<ipython-input-4-5260c7579531>\u001b[0m in \u001b[0;36mperceptron\u001b[0;34m()\u001b[0m\n\u001b[1;32m     18\u001b[0m     \u001b[0my_\u001b[0m \u001b[0;34m=\u001b[0m \u001b[0mnp\u001b[0m\u001b[0;34m.\u001b[0m\u001b[0marray\u001b[0m\u001b[0;34m(\u001b[0m\u001b[0;34m[\u001b[0m\u001b[0;36m1\u001b[0m \u001b[0;32mif\u001b[0m \u001b[0mi\u001b[0m \u001b[0;34m>\u001b[0m \u001b[0;36m0\u001b[0m \u001b[0;32melse\u001b[0m \u001b[0;36m0\u001b[0m \u001b[0;32mfor\u001b[0m \u001b[0mi\u001b[0m \u001b[0;32min\u001b[0m \u001b[0my\u001b[0m\u001b[0;34m]\u001b[0m\u001b[0;34m)\u001b[0m\u001b[0;34m\u001b[0m\u001b[0;34m\u001b[0m\u001b[0m\n\u001b[1;32m     19\u001b[0m \u001b[0;34m\u001b[0m\u001b[0m\n\u001b[0;32m---> 20\u001b[0;31m   \u001b[0;32mfor\u001b[0m \u001b[0m_\u001b[0m \u001b[0;32min\u001b[0m \u001b[0mrange\u001b[0m\u001b[0;34m(\u001b[0m\u001b[0mself\u001b[0m\u001b[0;34m.\u001b[0m\u001b[0mn_iters\u001b[0m\u001b[0;34m)\u001b[0m\u001b[0;34m:\u001b[0m\u001b[0;34m\u001b[0m\u001b[0;34m\u001b[0m\u001b[0m\n\u001b[0m\u001b[1;32m     21\u001b[0m     \u001b[0;32mfor\u001b[0m \u001b[0midx\u001b[0m\u001b[0;34m,\u001b[0m \u001b[0mx_i\u001b[0m \u001b[0;32min\u001b[0m \u001b[0menumerate\u001b[0m\u001b[0;34m(\u001b[0m\u001b[0mx\u001b[0m\u001b[0;34m)\u001b[0m\u001b[0;34m:\u001b[0m\u001b[0;34m\u001b[0m\u001b[0;34m\u001b[0m\u001b[0m\n\u001b[1;32m     22\u001b[0m       \u001b[0mlinearOut\u001b[0m \u001b[0;34m=\u001b[0m \u001b[0mnp\u001b[0m\u001b[0;34m.\u001b[0m\u001b[0mdot\u001b[0m\u001b[0;34m(\u001b[0m\u001b[0mx_i\u001b[0m\u001b[0;34m,\u001b[0m \u001b[0mself\u001b[0m\u001b[0;34m.\u001b[0m\u001b[0mweights\u001b[0m\u001b[0;34m)\u001b[0m \u001b[0;34m+\u001b[0m \u001b[0mself\u001b[0m\u001b[0;34m.\u001b[0m\u001b[0mbias\u001b[0m\u001b[0;34m\u001b[0m\u001b[0;34m\u001b[0m\u001b[0m\n",
            "\u001b[0;31mNameError\u001b[0m: name 'self' is not defined"
          ]
        }
      ]
    },
    {
      "cell_type": "code",
      "metadata": {
        "colab": {
          "base_uri": "https://localhost:8080/"
        },
        "id": "box1jSDmynr3",
        "outputId": "0c8d5e94-17ec-424d-e1ce-7e20514c11ae"
      },
      "source": [
        "#The actual assignment\n",
        "\n",
        "w1 = [3.19304864, 9.93278091, -4.74659947]\n",
        "w2 = [-1.59451474, 9.97879746, 4.47953684]\n",
        "v1 = [0.32620883, -8.71647388, 8.39004239]\n",
        "\n",
        "data = np.array([[1, 0 , 0], [1, 0, 1], [1, 1, 0], [1,1,1]]) #x0 is hard coded\n",
        "\n",
        "\n",
        "testPoints = [ (0,0), (0,1), (1,0), (1,1) ]\n",
        "\n",
        "\n",
        "\n",
        "\n",
        "\n",
        "F = lambda x,y,z: x+y+z \n",
        "\n",
        "def hardThresh(x):\n",
        "  thresh = []\n",
        "  for i in x:\n",
        "    if i >= 0:\n",
        "      thresh.append(1)\n",
        "    \n",
        "    else:\n",
        "      thresh.append(0)\n",
        "  return thresh\n",
        "\n",
        "   \n",
        "\n",
        "def nodeCreation(w,data):\n",
        "\n",
        "  X= [x for x,y,z in data]\n",
        "  Y= [y for x,y,z in data]\n",
        "  Z =[z for x,y,z in data]\n",
        "  i = 0\n",
        "  newNode = []\n",
        "\n",
        "  while (i <= len(X)-1):\n",
        "    val1 = X[i]*w[0]\n",
        "    val2 = Y[i]*w[1]\n",
        "    val3 = Z[i]*w[2]\n",
        "    sumVal = F(val1,val2,val3)\n",
        "    newNode.append(sumVal)\n",
        "    i += 1\n",
        "  \n",
        "  return newNode\n",
        "\n",
        "\n",
        "\n",
        "Node0 = [-0.5, -0.5, -0.5, -0.5] # hardcoded no feed to it\n",
        "Node1 = nodeCreation(w1,data) \n",
        "Node2 = nodeCreation(w2,data)  \n",
        "\n",
        "\n",
        "#newNode0 = hardThresh(Node0)\n",
        "#newNode1 = hardThresh(Node1)\n",
        "#newNode2 = hardThresh(Node2)                    \n",
        "\n",
        "\n",
        "HiddenLayer = [Node0, Node1, Node2]\n",
        "\n",
        "print(HiddenLayer)\n",
        "\n",
        "def nodeCreation(n0, n1, n2, v): #update to include only one function\n",
        "  finalNode = []\n",
        "  i = 0\n",
        "  while (i <= len(n0)-1):\n",
        "     val0 = n0[i] * v[0]\n",
        "     val1 = n1[i] * v[1]\n",
        "     val2 = n2[i] * v[2]\n",
        "     sum = val0 + val1 + val2\n",
        "     finalNode.append(sum)\n",
        "     i +=1\n",
        "  return finalNode\n",
        "\n",
        "\n",
        "finalNode = final(HiddenLayer[0], HiddenLayer[1], HiddenLayer[2], v1)\n",
        "\n",
        "firing = hardThresh(finalNode) #activation function\n",
        "print(firing) \n",
        "\n",
        "\n",
        "\n",
        "\n",
        "#Don't judge my gerry rigged system :P"
      ],
      "execution_count": null,
      "outputs": [
        {
          "output_type": "stream",
          "name": "stdout",
          "text": [
            "[[-0.5, -0.5, -0.5, -0.5], [3.19304864, -1.5535508299999994, 13.12582955, 8.379230080000001], [-1.59451474, 2.8850220999999996, 8.38428272, 12.86381956]]\n",
            "[0, 1, 0, 1]\n"
          ]
        }
      ]
    },
    {
      "cell_type": "code",
      "metadata": {
        "id": "GI9rOI1T1p9k"
      },
      "source": [
        ""
      ],
      "execution_count": null,
      "outputs": []
    }
  ]
}